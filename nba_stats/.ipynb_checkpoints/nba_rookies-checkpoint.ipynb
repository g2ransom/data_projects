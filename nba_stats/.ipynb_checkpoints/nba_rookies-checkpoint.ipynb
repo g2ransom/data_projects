{
 "cells": [
  {
   "cell_type": "code",
   "execution_count": 1,
   "metadata": {},
   "outputs": [],
   "source": [
    "import pandas as pd\n",
    "import numpy as np\n",
    "from nba_py import player\n",
    "import matplotlib\n",
    "%matplotlib inline"
   ]
  },
  {
   "cell_type": "code",
   "execution_count": 2,
   "metadata": {},
   "outputs": [],
   "source": [
    "df1 = pd.read_csv(\"nba_drafts.csv\")\n",
    "df1 = df1.rename(columns={'PTS': 'PTS_TOTAL'})"
   ]
  },
  {
   "cell_type": "code",
   "execution_count": 3,
   "metadata": {},
   "outputs": [],
   "source": [
    "df2 = pd.read_csv(\"rookie_stats.csv\")"
   ]
  },
  {
   "cell_type": "code",
   "execution_count": 4,
   "metadata": {},
   "outputs": [],
   "source": [
    "df = pd.concat([df1, df2], axis=1)"
   ]
  },
  {
   "cell_type": "code",
   "execution_count": 5,
   "metadata": {},
   "outputs": [
    {
     "data": {
      "text/html": [
       "<div>\n",
       "<style scoped>\n",
       "    .dataframe tbody tr th:only-of-type {\n",
       "        vertical-align: middle;\n",
       "    }\n",
       "\n",
       "    .dataframe tbody tr th {\n",
       "        vertical-align: top;\n",
       "    }\n",
       "\n",
       "    .dataframe thead th {\n",
       "        text-align: right;\n",
       "    }\n",
       "</style>\n",
       "<table border=\"1\" class=\"dataframe\">\n",
       "  <thead>\n",
       "    <tr style=\"text-align: right;\">\n",
       "      <th></th>\n",
       "      <th>DraftYr</th>\n",
       "      <th>Pk</th>\n",
       "      <th>Tm</th>\n",
       "      <th>Player</th>\n",
       "      <th>College</th>\n",
       "      <th>Yrs</th>\n",
       "      <th>G</th>\n",
       "      <th>MP</th>\n",
       "      <th>PTS_TOTAL</th>\n",
       "      <th>TRB</th>\n",
       "      <th>...</th>\n",
       "      <th>BLKA_RANK</th>\n",
       "      <th>PF_RANK</th>\n",
       "      <th>PFD_RANK</th>\n",
       "      <th>PTS_RANK</th>\n",
       "      <th>PLUS_MINUS_RANK</th>\n",
       "      <th>NBA_FANTASY_PTS_RANK</th>\n",
       "      <th>DD2_RANK</th>\n",
       "      <th>TD3_RANK</th>\n",
       "      <th>CFID</th>\n",
       "      <th>CFPARAMS</th>\n",
       "    </tr>\n",
       "  </thead>\n",
       "  <tbody>\n",
       "    <tr>\n",
       "      <th>0</th>\n",
       "      <td>2008-09</td>\n",
       "      <td>1</td>\n",
       "      <td>CHI</td>\n",
       "      <td>Derrick Rose</td>\n",
       "      <td>University of Memphis</td>\n",
       "      <td>9.0</td>\n",
       "      <td>477.0</td>\n",
       "      <td>16480.0</td>\n",
       "      <td>9255.0</td>\n",
       "      <td>1753.0</td>\n",
       "      <td>...</td>\n",
       "      <td>6.0</td>\n",
       "      <td>3.0</td>\n",
       "      <td>5.0</td>\n",
       "      <td>6.0</td>\n",
       "      <td>5.0</td>\n",
       "      <td>4.0</td>\n",
       "      <td>3.0</td>\n",
       "      <td>2.0</td>\n",
       "      <td>264.0</td>\n",
       "      <td>2008-09</td>\n",
       "    </tr>\n",
       "    <tr>\n",
       "      <th>1</th>\n",
       "      <td>2008-09</td>\n",
       "      <td>2</td>\n",
       "      <td>MIA</td>\n",
       "      <td>Michael Beasley</td>\n",
       "      <td>Kansas State University</td>\n",
       "      <td>10.0</td>\n",
       "      <td>538.0</td>\n",
       "      <td>12493.0</td>\n",
       "      <td>6733.0</td>\n",
       "      <td>2516.0</td>\n",
       "      <td>...</td>\n",
       "      <td>2.0</td>\n",
       "      <td>4.0</td>\n",
       "      <td>3.0</td>\n",
       "      <td>3.0</td>\n",
       "      <td>3.0</td>\n",
       "      <td>3.0</td>\n",
       "      <td>2.0</td>\n",
       "      <td>1.0</td>\n",
       "      <td>264.0</td>\n",
       "      <td>2008-09</td>\n",
       "    </tr>\n",
       "    <tr>\n",
       "      <th>2</th>\n",
       "      <td>2008-09</td>\n",
       "      <td>3</td>\n",
       "      <td>MIN</td>\n",
       "      <td>O.J. Mayo</td>\n",
       "      <td>University of Southern California</td>\n",
       "      <td>8.0</td>\n",
       "      <td>547.0</td>\n",
       "      <td>16919.0</td>\n",
       "      <td>7574.0</td>\n",
       "      <td>1706.0</td>\n",
       "      <td>...</td>\n",
       "      <td>1.0</td>\n",
       "      <td>2.0</td>\n",
       "      <td>1.0</td>\n",
       "      <td>1.0</td>\n",
       "      <td>7.0</td>\n",
       "      <td>1.0</td>\n",
       "      <td>1.0</td>\n",
       "      <td>1.0</td>\n",
       "      <td>264.0</td>\n",
       "      <td>2008-09</td>\n",
       "    </tr>\n",
       "    <tr>\n",
       "      <th>3</th>\n",
       "      <td>2008-09</td>\n",
       "      <td>4</td>\n",
       "      <td>SEA</td>\n",
       "      <td>Russell Westbrook</td>\n",
       "      <td>University of California, Los Angeles</td>\n",
       "      <td>10.0</td>\n",
       "      <td>703.0</td>\n",
       "      <td>24055.0</td>\n",
       "      <td>15997.0</td>\n",
       "      <td>4476.0</td>\n",
       "      <td>...</td>\n",
       "      <td>7.0</td>\n",
       "      <td>7.0</td>\n",
       "      <td>10.0</td>\n",
       "      <td>10.0</td>\n",
       "      <td>10.0</td>\n",
       "      <td>10.0</td>\n",
       "      <td>9.0</td>\n",
       "      <td>7.0</td>\n",
       "      <td>264.0</td>\n",
       "      <td>2008-09</td>\n",
       "    </tr>\n",
       "    <tr>\n",
       "      <th>4</th>\n",
       "      <td>2008-09</td>\n",
       "      <td>5</td>\n",
       "      <td>MEM</td>\n",
       "      <td>Kevin Love</td>\n",
       "      <td>University of California, Los Angeles</td>\n",
       "      <td>10.0</td>\n",
       "      <td>610.0</td>\n",
       "      <td>19781.0</td>\n",
       "      <td>11279.0</td>\n",
       "      <td>6959.0</td>\n",
       "      <td>...</td>\n",
       "      <td>7.0</td>\n",
       "      <td>2.0</td>\n",
       "      <td>10.0</td>\n",
       "      <td>10.0</td>\n",
       "      <td>8.0</td>\n",
       "      <td>10.0</td>\n",
       "      <td>8.0</td>\n",
       "      <td>2.0</td>\n",
       "      <td>264.0</td>\n",
       "      <td>2008-09</td>\n",
       "    </tr>\n",
       "  </tbody>\n",
       "</table>\n",
       "<p>5 rows × 88 columns</p>\n",
       "</div>"
      ],
      "text/plain": [
       "   DraftYr  Pk   Tm             Player                                College  \\\n",
       "0  2008-09   1  CHI       Derrick Rose                  University of Memphis   \n",
       "1  2008-09   2  MIA    Michael Beasley                Kansas State University   \n",
       "2  2008-09   3  MIN          O.J. Mayo      University of Southern California   \n",
       "3  2008-09   4  SEA  Russell Westbrook  University of California, Los Angeles   \n",
       "4  2008-09   5  MEM         Kevin Love  University of California, Los Angeles   \n",
       "\n",
       "    Yrs      G       MP  PTS_TOTAL     TRB    ...     BLKA_RANK  PF_RANK  \\\n",
       "0   9.0  477.0  16480.0     9255.0  1753.0    ...           6.0      3.0   \n",
       "1  10.0  538.0  12493.0     6733.0  2516.0    ...           2.0      4.0   \n",
       "2   8.0  547.0  16919.0     7574.0  1706.0    ...           1.0      2.0   \n",
       "3  10.0  703.0  24055.0    15997.0  4476.0    ...           7.0      7.0   \n",
       "4  10.0  610.0  19781.0    11279.0  6959.0    ...           7.0      2.0   \n",
       "\n",
       "   PFD_RANK  PTS_RANK  PLUS_MINUS_RANK  NBA_FANTASY_PTS_RANK  DD2_RANK  \\\n",
       "0       5.0       6.0              5.0                   4.0       3.0   \n",
       "1       3.0       3.0              3.0                   3.0       2.0   \n",
       "2       1.0       1.0              7.0                   1.0       1.0   \n",
       "3      10.0      10.0             10.0                  10.0       9.0   \n",
       "4      10.0      10.0              8.0                  10.0       8.0   \n",
       "\n",
       "   TD3_RANK   CFID  CFPARAMS  \n",
       "0       2.0  264.0   2008-09  \n",
       "1       1.0  264.0   2008-09  \n",
       "2       1.0  264.0   2008-09  \n",
       "3       7.0  264.0   2008-09  \n",
       "4       2.0  264.0   2008-09  \n",
       "\n",
       "[5 rows x 88 columns]"
      ]
     },
     "execution_count": 5,
     "metadata": {},
     "output_type": "execute_result"
    }
   ],
   "source": [
    "df.head()"
   ]
  },
  {
   "cell_type": "code",
   "execution_count": 6,
   "metadata": {},
   "outputs": [
    {
     "data": {
      "text/plain": [
       "Index([u'DraftYr', u'Pk', u'Tm', u'Player', u'College', u'Yrs', u'G', u'MP',\n",
       "       u'PTS_TOTAL', u'TRB', u'AST', u'FG%', u'3P%', u'FT%', u'MP.1', u'PTS.1',\n",
       "       u'TRB.1', u'AST.1', u'WS', u'WS/48', u'BPM', u'VORP', u'IDs',\n",
       "       u'GROUP_SET', u'GROUP_VALUE', u'TEAM_ID', u'TEAM_ABBREVIATION',\n",
       "       u'MAX_GAME_DATE', u'GP', u'W', u'L', u'W_PCT', u'MIN', u'FGM', u'FGA',\n",
       "       u'FG_PCT', u'FG3M', u'FG3A', u'FG3_PCT', u'FTM', u'FTA', u'FT_PCT',\n",
       "       u'OREB', u'DREB', u'REB', u'AST', u'TOV', u'STL', u'BLK', u'BLKA',\n",
       "       u'PF', u'PFD', u'PTS', u'PLUS_MINUS', u'NBA_FANTASY_PTS', u'DD2',\n",
       "       u'TD3', u'GP_RANK', u'W_RANK', u'L_RANK', u'W_PCT_RANK', u'MIN_RANK',\n",
       "       u'FGM_RANK', u'FGA_RANK', u'FG_PCT_RANK', u'FG3M_RANK', u'FG3A_RANK',\n",
       "       u'FG3_PCT_RANK', u'FTM_RANK', u'FTA_RANK', u'FT_PCT_RANK', u'OREB_RANK',\n",
       "       u'DREB_RANK', u'REB_RANK', u'AST_RANK', u'TOV_RANK', u'STL_RANK',\n",
       "       u'BLK_RANK', u'BLKA_RANK', u'PF_RANK', u'PFD_RANK', u'PTS_RANK',\n",
       "       u'PLUS_MINUS_RANK', u'NBA_FANTASY_PTS_RANK', u'DD2_RANK', u'TD3_RANK',\n",
       "       u'CFID', u'CFPARAMS'],\n",
       "      dtype='object')"
      ]
     },
     "execution_count": 6,
     "metadata": {},
     "output_type": "execute_result"
    }
   ],
   "source": [
    "df.columns"
   ]
  },
  {
   "cell_type": "code",
   "execution_count": 7,
   "metadata": {},
   "outputs": [
    {
     "data": {
      "text/html": [
       "<div>\n",
       "<style scoped>\n",
       "    .dataframe tbody tr th:only-of-type {\n",
       "        vertical-align: middle;\n",
       "    }\n",
       "\n",
       "    .dataframe tbody tr th {\n",
       "        vertical-align: top;\n",
       "    }\n",
       "\n",
       "    .dataframe thead th {\n",
       "        text-align: right;\n",
       "    }\n",
       "</style>\n",
       "<table border=\"1\" class=\"dataframe\">\n",
       "  <thead>\n",
       "    <tr style=\"text-align: right;\">\n",
       "      <th></th>\n",
       "      <th>DraftYr</th>\n",
       "      <th>Pk</th>\n",
       "      <th>Tm</th>\n",
       "      <th>Player</th>\n",
       "      <th>FGM</th>\n",
       "      <th>FGA</th>\n",
       "      <th>FG_PCT</th>\n",
       "      <th>FT_PCT</th>\n",
       "      <th>REB</th>\n",
       "      <th>AST</th>\n",
       "      <th>AST</th>\n",
       "      <th>TOV</th>\n",
       "      <th>STL</th>\n",
       "      <th>BLK</th>\n",
       "      <th>PTS</th>\n",
       "    </tr>\n",
       "  </thead>\n",
       "  <tbody>\n",
       "    <tr>\n",
       "      <th>0</th>\n",
       "      <td>2008-09</td>\n",
       "      <td>1</td>\n",
       "      <td>CHI</td>\n",
       "      <td>Derrick Rose</td>\n",
       "      <td>7.1</td>\n",
       "      <td>14.9</td>\n",
       "      <td>0.475</td>\n",
       "      <td>0.788</td>\n",
       "      <td>3.9</td>\n",
       "      <td>2811.0</td>\n",
       "      <td>6.3</td>\n",
       "      <td>2.5</td>\n",
       "      <td>0.8</td>\n",
       "      <td>0.2</td>\n",
       "      <td>16.8</td>\n",
       "    </tr>\n",
       "    <tr>\n",
       "      <th>1</th>\n",
       "      <td>2008-09</td>\n",
       "      <td>2</td>\n",
       "      <td>MIA</td>\n",
       "      <td>Michael Beasley</td>\n",
       "      <td>5.6</td>\n",
       "      <td>11.8</td>\n",
       "      <td>0.472</td>\n",
       "      <td>0.772</td>\n",
       "      <td>5.4</td>\n",
       "      <td>675.0</td>\n",
       "      <td>1.0</td>\n",
       "      <td>1.5</td>\n",
       "      <td>0.5</td>\n",
       "      <td>0.5</td>\n",
       "      <td>13.9</td>\n",
       "    </tr>\n",
       "    <tr>\n",
       "      <th>2</th>\n",
       "      <td>2008-09</td>\n",
       "      <td>3</td>\n",
       "      <td>MIN</td>\n",
       "      <td>O.J. Mayo</td>\n",
       "      <td>6.9</td>\n",
       "      <td>15.6</td>\n",
       "      <td>0.438</td>\n",
       "      <td>0.879</td>\n",
       "      <td>3.8</td>\n",
       "      <td>1607.0</td>\n",
       "      <td>3.2</td>\n",
       "      <td>2.8</td>\n",
       "      <td>1.1</td>\n",
       "      <td>0.2</td>\n",
       "      <td>18.5</td>\n",
       "    </tr>\n",
       "    <tr>\n",
       "      <th>3</th>\n",
       "      <td>2008-09</td>\n",
       "      <td>4</td>\n",
       "      <td>SEA</td>\n",
       "      <td>Russell Westbrook</td>\n",
       "      <td>5.3</td>\n",
       "      <td>13.4</td>\n",
       "      <td>0.398</td>\n",
       "      <td>0.815</td>\n",
       "      <td>4.9</td>\n",
       "      <td>5643.0</td>\n",
       "      <td>5.3</td>\n",
       "      <td>3.3</td>\n",
       "      <td>1.3</td>\n",
       "      <td>0.2</td>\n",
       "      <td>15.3</td>\n",
       "    </tr>\n",
       "    <tr>\n",
       "      <th>4</th>\n",
       "      <td>2008-09</td>\n",
       "      <td>5</td>\n",
       "      <td>MEM</td>\n",
       "      <td>Kevin Love</td>\n",
       "      <td>3.9</td>\n",
       "      <td>8.5</td>\n",
       "      <td>0.459</td>\n",
       "      <td>0.789</td>\n",
       "      <td>9.1</td>\n",
       "      <td>1431.0</td>\n",
       "      <td>1.0</td>\n",
       "      <td>1.5</td>\n",
       "      <td>0.4</td>\n",
       "      <td>0.6</td>\n",
       "      <td>11.1</td>\n",
       "    </tr>\n",
       "  </tbody>\n",
       "</table>\n",
       "</div>"
      ],
      "text/plain": [
       "   DraftYr  Pk   Tm             Player  FGM   FGA  FG_PCT  FT_PCT  REB  \\\n",
       "0  2008-09   1  CHI       Derrick Rose  7.1  14.9   0.475   0.788  3.9   \n",
       "1  2008-09   2  MIA    Michael Beasley  5.6  11.8   0.472   0.772  5.4   \n",
       "2  2008-09   3  MIN          O.J. Mayo  6.9  15.6   0.438   0.879  3.8   \n",
       "3  2008-09   4  SEA  Russell Westbrook  5.3  13.4   0.398   0.815  4.9   \n",
       "4  2008-09   5  MEM         Kevin Love  3.9   8.5   0.459   0.789  9.1   \n",
       "\n",
       "      AST  AST  TOV  STL  BLK   PTS  \n",
       "0  2811.0  6.3  2.5  0.8  0.2  16.8  \n",
       "1   675.0  1.0  1.5  0.5  0.5  13.9  \n",
       "2  1607.0  3.2  2.8  1.1  0.2  18.5  \n",
       "3  5643.0  5.3  3.3  1.3  0.2  15.3  \n",
       "4  1431.0  1.0  1.5  0.4  0.6  11.1  "
      ]
     },
     "execution_count": 7,
     "metadata": {},
     "output_type": "execute_result"
    }
   ],
   "source": [
    "rookie_df = df[['DraftYr', 'Pk', 'Tm', 'Player', 'FGM', 'FGA', 'FG_PCT', 'FT_PCT', \n",
    "                'REB', 'AST', 'TOV', 'STL', 'BLK', 'PTS']]\n",
    "rookie_df.head()"
   ]
  },
  {
   "cell_type": "code",
   "execution_count": 8,
   "metadata": {},
   "outputs": [
    {
     "data": {
      "text/plain": [
       "DraftYr     object\n",
       "Pk           int64\n",
       "Tm          object\n",
       "Player      object\n",
       "FGM        float64\n",
       "FGA        float64\n",
       "FG_PCT     float64\n",
       "FT_PCT     float64\n",
       "REB        float64\n",
       "AST        float64\n",
       "AST        float64\n",
       "TOV        float64\n",
       "STL        float64\n",
       "BLK        float64\n",
       "PTS        float64\n",
       "dtype: object"
      ]
     },
     "execution_count": 8,
     "metadata": {},
     "output_type": "execute_result"
    }
   ],
   "source": [
    "rookie_df.dtypes"
   ]
  },
  {
   "cell_type": "code",
   "execution_count": 40,
   "metadata": {},
   "outputs": [
    {
     "data": {
      "text/plain": [
       "<matplotlib.axes._subplots.AxesSubplot at 0x10ffe6a10>"
      ]
     },
     "execution_count": 40,
     "metadata": {},
     "output_type": "execute_result"
    },
    {
     "data": {
      "image/png": "[encoded data removed]",
      "text/plain": [
       "<matplotlib.figure.Figure at 0x10ffdcc50>"
      ]
     },
     "metadata": {},
     "output_type": "display_data"
    }
   ],
   "source": [
    "rookie_df.plot(x='FG_PCT', y='PTS', kind='scatter')"
   ]
  },
  {
   "cell_type": "code",
   "execution_count": 17,
   "metadata": {},
   "outputs": [
    {
     "data": {
      "text/plain": [
       "<matplotlib.axes._subplots.AxesSubplot at 0x112386350>"
      ]
     },
     "execution_count": 17,
     "metadata": {},
     "output_type": "execute_result"
    },
    {
     "data": {
      "image/png": "[encoded data removed]",
      "text/plain": [
       "<matplotlib.figure.Figure at 0x112137f90>"
      ]
     },
     "metadata": {},
     "output_type": "display_data"
    }
   ],
   "source": [
    "rookie_df.boxplot(column='PTS', by='DraftYr', figsize=(8,8))"
   ]
  },
  {
   "cell_type": "code",
   "execution_count": null,
   "metadata": {},
   "outputs": [],
   "source": []
  }
 ],
 "metadata": {
  "kernelspec": {
   "display_name": "Python 2",
   "language": "python",
   "name": "python2"
  },
  "language_info": {
   "codemirror_mode": {
    "name": "ipython",
    "version": 2
   },
   "file_extension": ".py",
   "mimetype": "text/x-python",
   "name": "python",
   "nbconvert_exporter": "python",
   "pygments_lexer": "ipython2",
   "version": "2.7.10"
  }
 },
 "nbformat": 4,
 "nbformat_minor": 2
}
